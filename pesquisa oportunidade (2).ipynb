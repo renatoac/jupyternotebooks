{
 "cells": [
  {
   "cell_type": "code",
   "execution_count": 22,
   "metadata": {
    "collapsed": false,
    "scrolled": true
   },
   "outputs": [
    {
     "name": "stderr",
     "output_type": "stream",
     "text": [
      "WARNING: Some output was deleted.\n"
     ]
    }
   ],
   "source": [
    "import pandas as pd\n",
    "import re\n",
    "data = pd.read_csv('pesquisausuarios.csv')\n",
    "\n",
    "df_oportunidade = pd.DataFrame()\n",
    "\n",
    "for column in data.columns:\n",
    "    if \"Satisfacao\" in column:\n",
    "        m = re.search('Satisfacao (.*)', column)\n",
    "        new_col = m.group(1)\n",
    "        df_oportunidade[\"Oportunidade \" + new_col] = data.apply(lambda row: row[\"Importancia \" + new_col] + max(int(row[\"Importancia \" + new_col] - row[\"Satisfacao \" + new_col]),0), axis=1)\n",
    "\n",
    "df_oportunidade"
   ]
  },
  {
   "cell_type": "markdown",
   "metadata": {
    "collapsed": false
   },
   "source": [
    "# Descobre os clusters"
   ]
  },
  {
   "cell_type": "code",
   "execution_count": 51,
   "metadata": {
    "collapsed": false,
    "scrolled": true
   },
   "outputs": [
    {
     "name": "stderr",
     "output_type": "stream",
     "text": [
      "WARNING: Some output was deleted.\n"
     ]
    }
   ],
   "source": [
    "from sklearn.cluster import KMeans\n",
    "\n",
    "cluster = KMeans(n_clusters=2)\n",
    "data['Cluster'] = cluster.fit_predict(data.iloc[:,2:])\n",
    "\n",
    "data"
   ]
  },
  {
   "cell_type": "markdown",
   "metadata": {
    "collapsed": false
   },
   "source": [
    "# Agrupa por Cluster"
   ]
  },
  {
   "cell_type": "code",
   "execution_count": 4,
   "metadata": {
    "collapsed": false
   },
   "outputs": [
    {
     "data": {
      "text/html": [
       "<div>\n",
       "<style scoped>\n",
       "    .dataframe tbody tr th:only-of-type {\n",
       "        vertical-align: middle;\n",
       "    }\n",
       "\n",
       "    .dataframe tbody tr th {\n",
       "        vertical-align: top;\n",
       "    }\n",
       "\n",
       "    .dataframe thead th {\n",
       "        text-align: right;\n",
       "    }\n",
       "</style>\n",
       "<table border=\"1\" class=\"dataframe\">\n",
       "  <thead>\n",
       "    <tr style=\"text-align: right;\">\n",
       "      <th></th>\n",
       "      <th>Cluster</th>\n",
       "      <th>Importancia 1</th>\n",
       "      <th>Satisfacao 1</th>\n",
       "      <th>Importancia 2</th>\n",
       "      <th>Satisfacao 2</th>\n",
       "      <th>Importancia 3</th>\n",
       "      <th>Satisfacao 3</th>\n",
       "      <th>Importancia 4</th>\n",
       "      <th>Satisfacao 4</th>\n",
       "      <th>Importancia 5</th>\n",
       "      <th>...</th>\n",
       "      <th>Importancia 17</th>\n",
       "      <th>Satisfacao 17</th>\n",
       "      <th>Importancia 18</th>\n",
       "      <th>Satisfacao 18</th>\n",
       "      <th>Importancia 19</th>\n",
       "      <th>Satisfacao 19</th>\n",
       "      <th>Importancia 20</th>\n",
       "      <th>Satisfacao 20</th>\n",
       "      <th>Importancia 21</th>\n",
       "      <th>Satisfacao 21</th>\n",
       "    </tr>\n",
       "  </thead>\n",
       "  <tbody>\n",
       "    <tr>\n",
       "      <th>0</th>\n",
       "      <td>0</td>\n",
       "      <td>8.460000</td>\n",
       "      <td>2.220000</td>\n",
       "      <td>6.660000</td>\n",
       "      <td>5.320000</td>\n",
       "      <td>6.260000</td>\n",
       "      <td>5.860000</td>\n",
       "      <td>4.420000</td>\n",
       "      <td>5.420000</td>\n",
       "      <td>5.200000</td>\n",
       "      <td>...</td>\n",
       "      <td>6.100000</td>\n",
       "      <td>4.280000</td>\n",
       "      <td>5.300000</td>\n",
       "      <td>6.280000</td>\n",
       "      <td>5.860000</td>\n",
       "      <td>5.960000</td>\n",
       "      <td>5.080000</td>\n",
       "      <td>5.32</td>\n",
       "      <td>5.320000</td>\n",
       "      <td>4.92</td>\n",
       "    </tr>\n",
       "    <tr>\n",
       "      <th>1</th>\n",
       "      <td>1</td>\n",
       "      <td>8.363636</td>\n",
       "      <td>2.772727</td>\n",
       "      <td>4.204545</td>\n",
       "      <td>5.204545</td>\n",
       "      <td>5.909091</td>\n",
       "      <td>4.363636</td>\n",
       "      <td>5.227273</td>\n",
       "      <td>6.363636</td>\n",
       "      <td>7.113636</td>\n",
       "      <td>...</td>\n",
       "      <td>5.204545</td>\n",
       "      <td>6.613636</td>\n",
       "      <td>5.727273</td>\n",
       "      <td>4.340909</td>\n",
       "      <td>5.454545</td>\n",
       "      <td>4.909091</td>\n",
       "      <td>5.204545</td>\n",
       "      <td>6.25</td>\n",
       "      <td>5.636364</td>\n",
       "      <td>5.50</td>\n",
       "    </tr>\n",
       "  </tbody>\n",
       "</table>\n",
       "<p>2 rows × 43 columns</p>\n",
       "</div>"
      ]
     },
     "execution_count": 4,
     "metadata": {
     },
     "output_type": "execute_result"
    }
   ],
   "source": [
    "df = data.iloc[:,1:].groupby(['Cluster'], as_index = False).mean()\n",
    "df"
   ]
  },
  {
   "cell_type": "markdown",
   "metadata": {
    "collapsed": false
   },
   "source": [
    "# Agrupa outcomes e cluster"
   ]
  },
  {
   "cell_type": "code",
   "execution_count": 5,
   "metadata": {
    "collapsed": false,
    "scrolled": true
   },
   "outputs": [
   ],
   "source": [
    "# Transforma colunas de Outcome em linhas, agrupando por Outcome e Cluster\n",
    "outcomes = pd.melt(df, id_vars=[('Cluster')])\n",
    "outcomes\n",
    "\n",
    "Importancia = outcomes[outcomes.variable.str.contains(\"Importancia.*\")]\n",
    "Satisfacao = outcomes[outcomes.variable.str.contains(\"Satisfacao.*\")]\n"
   ]
  },
  {
   "cell_type": "markdown",
   "metadata": {
    "collapsed": false
   },
   "source": [
    "# Descobre Outcomes atrativos"
   ]
  },
  {
   "cell_type": "code",
   "execution_count": 6,
   "metadata": {
    "collapsed": false
   },
   "outputs": [
    {
     "data": {
      "text/html": [
       "<div>\n",
       "<style scoped>\n",
       "    .dataframe tbody tr th:only-of-type {\n",
       "        vertical-align: middle;\n",
       "    }\n",
       "\n",
       "    .dataframe tbody tr th {\n",
       "        vertical-align: top;\n",
       "    }\n",
       "\n",
       "    .dataframe thead th {\n",
       "        text-align: right;\n",
       "    }\n",
       "</style>\n",
       "<table border=\"1\" class=\"dataframe\">\n",
       "  <thead>\n",
       "    <tr style=\"text-align: right;\">\n",
       "      <th></th>\n",
       "      <th>Outcome</th>\n",
       "      <th>Cluster</th>\n",
       "      <th>Satisfacao</th>\n",
       "      <th>Importancia</th>\n",
       "    </tr>\n",
       "  </thead>\n",
       "  <tbody>\n",
       "    <tr>\n",
       "      <th>73</th>\n",
       "      <td>Importancia 19</td>\n",
       "      <td>1</td>\n",
       "      <td>4.909091</td>\n",
       "      <td>5.454545</td>\n",
       "    </tr>\n",
       "    <tr>\n",
       "      <th>76</th>\n",
       "      <td>Importancia 20</td>\n",
       "      <td>0</td>\n",
       "      <td>5.320000</td>\n",
       "      <td>5.080000</td>\n",
       "    </tr>\n",
       "    <tr>\n",
       "      <th>77</th>\n",
       "      <td>Importancia 20</td>\n",
       "      <td>1</td>\n",
       "      <td>6.250000</td>\n",
       "      <td>5.204545</td>\n",
       "    </tr>\n",
       "    <tr>\n",
       "      <th>80</th>\n",
       "      <td>Importancia 21</td>\n",
       "      <td>0</td>\n",
       "      <td>4.920000</td>\n",
       "      <td>5.320000</td>\n",
       "    </tr>\n",
       "    <tr>\n",
       "      <th>81</th>\n",
       "      <td>Importancia 21</td>\n",
       "      <td>1</td>\n",
       "      <td>5.500000</td>\n",
       "      <td>5.636364</td>\n",
       "    </tr>\n",
       "  </tbody>\n",
       "</table>\n",
       "</div>"
      ]
     },
     "execution_count": 6,
     "metadata": {
     },
     "output_type": "execute_result"
    }
   ],
   "source": [
    "new = {'Outcome': Importancia['variable']}\n",
    "df_segmento = pd.DataFrame(data=new)\n",
    "df_segmento['Cluster'] = Importancia['Cluster']\n",
    "df_segmento['Satisfacao'] = Satisfacao['value'].values #ler https://stackoverflow.com/a/26221919\n",
    "df_segmento['Importancia'] = Importancia['value']\n",
    "df_segmento.tail()"
   ]
  },
  {
   "cell_type": "markdown",
   "metadata": {
    "collapsed": false
   },
   "source": [
    "# Calcular oportunidade e segmento de oportunidade"
   ]
  },
  {
   "cell_type": "code",
   "execution_count": 7,
   "metadata": {
    "collapsed": false
   },
   "outputs": [
    {
     "data": {
      "text/html": [
       "<div>\n",
       "<style scoped>\n",
       "    .dataframe tbody tr th:only-of-type {\n",
       "        vertical-align: middle;\n",
       "    }\n",
       "\n",
       "    .dataframe tbody tr th {\n",
       "        vertical-align: top;\n",
       "    }\n",
       "\n",
       "    .dataframe thead th {\n",
       "        text-align: right;\n",
       "    }\n",
       "</style>\n",
       "<table border=\"1\" class=\"dataframe\">\n",
       "  <thead>\n",
       "    <tr style=\"text-align: right;\">\n",
       "      <th></th>\n",
       "      <th>Outcome</th>\n",
       "      <th>Cluster</th>\n",
       "      <th>Satisfacao</th>\n",
       "      <th>Importancia</th>\n",
       "      <th>Oportunidade</th>\n",
       "      <th>Segmento_oportunidade</th>\n",
       "    </tr>\n",
       "  </thead>\n",
       "  <tbody>\n",
       "    <tr>\n",
       "      <th>73</th>\n",
       "      <td>Importancia 19</td>\n",
       "      <td>1</td>\n",
       "      <td>4.909091</td>\n",
       "      <td>5.454545</td>\n",
       "      <td>6.000000</td>\n",
       "      <td>Não atrativo</td>\n",
       "    </tr>\n",
       "    <tr>\n",
       "      <th>76</th>\n",
       "      <td>Importancia 20</td>\n",
       "      <td>0</td>\n",
       "      <td>5.320000</td>\n",
       "      <td>5.080000</td>\n",
       "      <td>4.840000</td>\n",
       "      <td>Não atrativo</td>\n",
       "    </tr>\n",
       "    <tr>\n",
       "      <th>77</th>\n",
       "      <td>Importancia 20</td>\n",
       "      <td>1</td>\n",
       "      <td>6.250000</td>\n",
       "      <td>5.204545</td>\n",
       "      <td>4.159091</td>\n",
       "      <td>Não atrativo</td>\n",
       "    </tr>\n",
       "    <tr>\n",
       "      <th>80</th>\n",
       "      <td>Importancia 21</td>\n",
       "      <td>0</td>\n",
       "      <td>4.920000</td>\n",
       "      <td>5.320000</td>\n",
       "      <td>5.720000</td>\n",
       "      <td>Não atrativo</td>\n",
       "    </tr>\n",
       "    <tr>\n",
       "      <th>81</th>\n",
       "      <td>Importancia 21</td>\n",
       "      <td>1</td>\n",
       "      <td>5.500000</td>\n",
       "      <td>5.636364</td>\n",
       "      <td>5.772727</td>\n",
       "      <td>Não atrativo</td>\n",
       "    </tr>\n",
       "  </tbody>\n",
       "</table>\n",
       "</div>"
      ]
     },
     "execution_count": 7,
     "metadata": {
     },
     "output_type": "execute_result"
    }
   ],
   "source": [
    "def calcular_oportunidade_segmento(row):\n",
    "    row['Oportunidade'] = row['Importancia'] + (row['Importancia'] - row['Satisfacao'])\n",
    "    if row['Oportunidade'] > 15.0:\n",
    "        row['Segmento_oportunidade'] =  'Muito atrativo'\n",
    "    elif row['Oportunidade'] > 10.0 and row['Oportunidade'] < 15.0:\n",
    "        row['Segmento_oportunidade'] = 'Atrativo'\n",
    "    else:\n",
    "        row['Segmento_oportunidade'] = 'Não atrativo'\n",
    "    return row\n",
    "\n",
    "df_segmento = df_segmento.apply(calcular_oportunidade_segmento, axis=1)\n",
    "df_segmento.tail()\n",
    "\n"
   ]
  },
  {
   "cell_type": "code",
   "execution_count": 29,
   "metadata": {
    "collapsed": false
   },
   "outputs": [
    {
     "data": {
      "image/png": "[encoded data removed]"
     },
     "execution_count": 29,
     "metadata": {
      "image/png": {
       "height": 424,
       "width": 476
      }
     },
     "output_type": "execute_result"
    }
   ],
   "source": [
    "from ggplot import *\n",
    "import matplotlib.pyplot as plt \n",
    "import seaborn as sns\n",
    "\n",
    "ggplot(df_segmento, aes(x='Satisfacao', y='Importancia', color='Cluster')) + \\\n",
    "    geom_point(size=75) + \\\n",
    "    ggtitle(\"Customers Grouped by Cluster\") + \\\n",
    "    xlim(1, 10) + \\\n",
    "    ylim(1, 10)\n",
    "\n",
    "g = sns.FacetGrid(df_segmento, hue=\"Cluster\", size=6)\n",
    "g.map(plt.scatter, \"Satisfacao\", \"Importancia\", s=50, alpha=.7, linewidth=.5, edgecolor=\"white\")\n",
    "g.set(xlim=(1, 10), ylim=(1, 10));\n",
    "g.add_legend();\n"
   ]
  },
  {
   "cell_type": "code",
   "execution_count": 38,
   "metadata": {
    "collapsed": false
   },
   "outputs": [
    {
     "ename": "ImportError",
     "evalue": "No module named 'factor_analyzer'",
     "output_type": "error",
     "traceback": [
      "\u001b[0;31m---------------------------------------------------------------------------\u001b[0m",
      "\u001b[0;31mImportError\u001b[0m                               Traceback (most recent call last)",
      "\u001b[0;32m<ipython-input-38-ab6bd93db3a2>\u001b[0m in \u001b[0;36m<module>\u001b[0;34m()\u001b[0m\n\u001b[0;32m----> 1\u001b[0;31m \u001b[0;32mfrom\u001b[0m \u001b[0mfactor_analyzer\u001b[0m \u001b[0;32mimport\u001b[0m \u001b[0mFactorAnalyzer\u001b[0m\u001b[0;34m\u001b[0m\u001b[0m\n\u001b[0m\u001b[1;32m      2\u001b[0m \u001b[0mfa\u001b[0m \u001b[0;34m=\u001b[0m \u001b[0mFactorAnalyzer\u001b[0m\u001b[0;34m(\u001b[0m\u001b[0;34m)\u001b[0m\u001b[0;34m\u001b[0m\u001b[0m\n\u001b[1;32m      3\u001b[0m \u001b[0mfa\u001b[0m\u001b[0;34m.\u001b[0m\u001b[0manalyze\u001b[0m\u001b[0;34m(\u001b[0m\u001b[0mdata\u001b[0m\u001b[0;34m,\u001b[0m \u001b[0;36m3\u001b[0m\u001b[0;34m,\u001b[0m \u001b[0mrotation\u001b[0m\u001b[0;34m=\u001b[0m\u001b[0;32mNone\u001b[0m\u001b[0;34m)\u001b[0m\u001b[0;34m\u001b[0m\u001b[0m\n\u001b[1;32m      4\u001b[0m \u001b[0mfa\u001b[0m\u001b[0;34m.\u001b[0m\u001b[0mget_communalities\u001b[0m\u001b[0;34m(\u001b[0m\u001b[0;34m)\u001b[0m\u001b[0;34m\u001b[0m\u001b[0m\n",
      "\u001b[0;31mImportError\u001b[0m: No module named 'factor_analyzer'"
     ]
    }
   ],
   "source": [
    "import pandas as pd\n",
    "from factor_analyzer import FactorAnalyzer\n",
    "fa = FactorAnalyzer()\n",
    "\n",
    "fa.analyze(df_oportunidade.iloc[:,1:-2], 3, rotation='varimax', method='MINRES')\n",
    "new_df = fa.loadings\n",
    "\n",
    "new_df.loc[new_df['Factor1'] < -0.3, 'Factor1'] = -999\n",
    "new_df.loc[new_df['Factor1'] > 0.3, 'Factor1'] = -999\n",
    "new_df.loc[new_df['Factor2'] < -0.3, 'Factor2'] = -999\n",
    "new_df.loc[new_df['Factor2'] > 0.3, 'Factor2'] = -999\n",
    "new_df.loc[new_df['Factor3'] < -0.3, 'Factor3'] = -999\n",
    "new_df.loc[new_df['Factor3'] > 0.3, 'Factor3'] = -999\n",
    "\n",
    "new_df.replace(-999, '')\n",
    "new_df"
   ]
  },
  {
   "cell_type": "code",
   "execution_count": 4,
   "metadata": {
    "collapsed": false,
    "scrolled": true
   },
   "outputs": [
    {
     "name": "stderr",
     "output_type": "stream",
     "text": [
      "WARNING: Some output was deleted.\n"
     ]
    }
   ],
   "source": [
    "df_oportunidade = data.filter(regex='Oportunidade.*', axis=1)\n",
    "df_oportunidade\n"
   ]
  },
  {
   "cell_type": "code",
   "execution_count": 0,
   "metadata": {
    "collapsed": false
   },
   "outputs": [
   ],
   "source": [
   ]
  }
 ],
 "metadata": {
  "kernelspec": {
   "display_name": "Python 3 (Anaconda)",
   "language": "python",
   "name": "anaconda3"
  },
  "language_info": {
   "codemirror_mode": {
    "name": "ipython",
    "version": 3
   },
   "file_extension": ".py",
   "mimetype": "text/x-python",
   "name": "python",
   "nbconvert_exporter": "python",
   "pygments_lexer": "ipython3",
   "version": "3.5.5"
  }
 },
 "nbformat": 4,
 "nbformat_minor": 0
}